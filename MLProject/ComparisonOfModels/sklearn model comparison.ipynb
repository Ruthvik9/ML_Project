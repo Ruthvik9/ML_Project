{
 "cells": [
  {
   "cell_type": "code",
   "execution_count": 2,
   "id": "3774eff1",
   "metadata": {},
   "outputs": [],
   "source": [
    "from sklearn import datasets\n",
    "from sklearn.model_selection import train_test_split\n",
    "import numpy as np\n",
    "import pandas as pd\n",
    "from sklearn import neighbors,metrics\n",
    "from sklearn.preprocessing import LabelEncoder\n",
    "from sklearn import svm\n",
    "from sklearn.metrics import accuracy_score\n",
    "from sklearn.model_selection import KFold\n",
    "from sklearn.linear_model import LogisticRegression\n",
    "from sklearn.linear_model import Perceptron\n",
    "from sklearn.svm import SVC\n",
    "from sklearn.naive_bayes import GaussianNB\n",
    "from sklearn.discriminant_analysis import LinearDiscriminantAnalysis\n",
    "from sklearn.neural_network import MLPClassifier\n",
    "from sklearn.preprocessing import StandardScaler\n",
    "import matplotlib.pyplot as plt\n",
    "\n",
    "\n",
    "df = pd.read_csv('dataset_comb.txt')"
   ]
  },
  {
   "cell_type": "code",
   "execution_count": 3,
   "id": "02376abb",
   "metadata": {},
   "outputs": [],
   "source": [
    "def grouping(Class):\n",
    "    if Class == 'jasmine':\n",
    "        return 0\n",
    "    elif Class == 'Gonen':\n",
    "        return 1\n",
    "df['Class'] = df['Class'].apply(grouping)\n",
    "\n",
    "df = df.drop(['id'], axis = 1)\n",
    "df = df.sample(frac = 1)\n",
    "df = df.sample(frac = 1)\n",
    "X = df.iloc[:,:-1]\n",
    "y = df.iloc[:,-1]"
   ]
  },
  {
   "cell_type": "markdown",
   "id": "7494e4db",
   "metadata": {},
   "source": [
    "SVM"
   ]
  },
  {
   "cell_type": "code",
   "execution_count": 4,
   "id": "be55aabb",
   "metadata": {},
   "outputs": [
    {
     "name": "stdout",
     "output_type": "stream",
     "text": [
      "Mean accuracy - svm for test set =  0.9901018106613299\n",
      "Mean accuracy - svm for train set =  0.9906149808315199\n"
     ]
    }
   ],
   "source": [
    "testaccuracy_svm = []\n",
    "trainaccuracy_svm = []\n",
    "\n",
    "\n",
    "kf = KFold(n_splits = 7)\n",
    "for train_index,test_index in kf.split(X):\n",
    "     X_train, X_test = X.iloc[train_index], X.iloc[test_index]\n",
    "     y_train, y_test = y.iloc[train_index], y.iloc[test_index]\n",
    "     sc = StandardScaler()\n",
    "     X_train = sc.fit_transform(X_train)\n",
    "     X_test = sc.transform(X_test)\n",
    "     model = svm.SVC()\n",
    "     model.fit(X_train,y_train)\n",
    "     prediction_test = model.predict(X_test)\n",
    "     prediction_train = model.predict(X_train)\n",
    "     acc_test = accuracy_score(y_test,prediction_test)\n",
    "     acc_train = accuracy_score(y_train,prediction_train)\n",
    "     testaccuracy_svm.append(acc_test)\n",
    "     trainaccuracy_svm.append(acc_train)\n",
    "\n",
    "print(\"Mean accuracy - svm for test set = \", np.mean(testaccuracy_svm))\n",
    "print(\"Mean accuracy - svm for train set = \", np.mean(trainaccuracy_svm))"
   ]
  },
  {
   "cell_type": "markdown",
   "id": "804e85e0",
   "metadata": {},
   "source": [
    "Naive bayes classifier"
   ]
  },
  {
   "cell_type": "code",
   "execution_count": 5,
   "id": "d1910b1c",
   "metadata": {},
   "outputs": [
    {
     "name": "stdout",
     "output_type": "stream",
     "text": [
      "Mean accuracy - nb for test set =  0.9836679939432184\n",
      "Mean accuracy -nb for train set =  0.9837045213075469\n"
     ]
    }
   ],
   "source": [
    "testaccuracy_nb = []\n",
    "trainaccuracy_nb = []\n",
    "\n",
    "kf = KFold(n_splits = 7)\n",
    "for train_index,test_index in kf.split(X):\n",
    "     X_train, X_test = X.iloc[train_index], X.iloc[test_index]\n",
    "     y_train, y_test = y.iloc[train_index], y.iloc[test_index]\n",
    "     sc = StandardScaler()\n",
    "     X_train = sc.fit_transform(X_train)\n",
    "     X_test = sc.transform(X_test)\n",
    "     cl_Gaussian = GaussianNB()\n",
    "     model = cl_Gaussian.fit(X_train, y_train)\n",
    "     prediction_test = model.predict(X_test)\n",
    "     acc_test = accuracy_score(y_test, prediction_test)\n",
    "     prediction_train = model.predict(X_train)\n",
    "     acc_train = accuracy_score(y_train,prediction_train)\n",
    "     testaccuracy_nb.append(acc_test)\n",
    "     trainaccuracy_nb.append(acc_train)\n",
    "\n",
    "print(\"Mean accuracy - nb for test set = \", np.mean(testaccuracy_nb))\n",
    "print(\"Mean accuracy -nb for train set = \", np.mean(trainaccuracy_nb))"
   ]
  },
  {
   "cell_type": "markdown",
   "id": "15416007",
   "metadata": {},
   "source": [
    "Logistic regression"
   ]
  },
  {
   "cell_type": "code",
   "execution_count": 6,
   "id": "674e7418",
   "metadata": {},
   "outputs": [
    {
     "name": "stdout",
     "output_type": "stream",
     "text": [
      "Mean accuracy -lr for test set =  0.9891669197948161\n",
      "Mean accuracy -lr for train set =  0.9892768793970141\n"
     ]
    }
   ],
   "source": [
    "testaccuracy_lr = []\n",
    "trainaccuracy_lr = []\n",
    "\n",
    "kf = KFold(n_splits = 7)\n",
    "for train_index,test_index in kf.split(X):\n",
    "     X_train, X_test = X.iloc[train_index], X.iloc[test_index]\n",
    "     y_train, y_test = y.iloc[train_index], y.iloc[test_index]\n",
    "     sc = StandardScaler()\n",
    "     X_train = sc.fit_transform(X_train)\n",
    "     X_test = sc.transform(X_test)\n",
    "     cl = LogisticRegression(random_state=0, max_iter=1000)\n",
    "     model = cl.fit(X_train, y_train)\n",
    "     prediction_test = model.predict(X_test)\n",
    "     acc_test = accuracy_score(y_test, prediction_test)\n",
    "     prediction_train = model.predict(X_train)\n",
    "     acc_train = accuracy_score(y_train,prediction_train)\n",
    "     testaccuracy_lr.append(acc_test)\n",
    "     trainaccuracy_lr.append(acc_train)\n",
    "\n",
    "print(\"Mean accuracy -lr for test set = \", np.mean(testaccuracy_lr))\n",
    "print(\"Mean accuracy -lr for train set = \", np.mean(trainaccuracy_lr))"
   ]
  },
  {
   "cell_type": "markdown",
   "id": "415a5bc6",
   "metadata": {},
   "source": [
    "Fischer Linear Discriminant"
   ]
  },
  {
   "cell_type": "code",
   "execution_count": 8,
   "id": "42b0b8aa",
   "metadata": {},
   "outputs": [
    {
     "name": "stdout",
     "output_type": "stream",
     "text": [
      "Mean accuracy -fda for test set =  0.9866374592141843\n",
      "Mean accuracy -fda for train set =  0.9866923315235709\n"
     ]
    }
   ],
   "source": [
    "testaccuracy_fda = []\n",
    "trainaccuracy_fda = []\n",
    "\n",
    "kf = KFold(n_splits = 7)\n",
    "for train_index,test_index in kf.split(X):\n",
    "     X_train, X_test = X.iloc[train_index], X.iloc[test_index]\n",
    "     y_train, y_test = y.iloc[train_index], y.iloc[test_index]\n",
    "     sc = StandardScaler()\n",
    "     X_train = sc.fit_transform(X_train)\n",
    "     X_test = sc.transform(X_test)\n",
    "     cl = LinearDiscriminantAnalysis()\n",
    "     model = cl.fit(X_train, y_train)\n",
    "     prediction_test = model.predict(X_test)\n",
    "     acc_test = accuracy_score(y_test, prediction_test)\n",
    "     prediction_train = model.predict(X_train)\n",
    "     acc_train = accuracy_score(y_train,prediction_train)\n",
    "     testaccuracy_fda.append(acc_test)\n",
    "     trainaccuracy_fda.append(acc_train)\n",
    "\n",
    "print(\"Mean accuracy -fda for test set = \", np.mean(testaccuracy_fda))\n",
    "print(\"Mean accuracy -fda for train set = \", np.mean(trainaccuracy_fda))"
   ]
  },
  {
   "cell_type": "markdown",
   "id": "c4942a8b",
   "metadata": {},
   "source": [
    "Linear perceptron"
   ]
  },
  {
   "cell_type": "code",
   "execution_count": 9,
   "id": "bf38d130",
   "metadata": {},
   "outputs": [
    {
     "name": "stdout",
     "output_type": "stream",
     "text": [
      "Mean accuracy -lp for test set =  0.984602736595843\n",
      "Mean accuracy -lp for train set =  0.9852992280371139\n"
     ]
    }
   ],
   "source": [
    "testaccuracy_lp = []\n",
    "trainaccuracy_lp = []\n",
    "\n",
    "kf = KFold(n_splits = 7)\n",
    "for train_index,test_index in kf.split(X):\n",
    "     X_train, X_test = X.iloc[train_index], X.iloc[test_index]\n",
    "     y_train, y_test = y.iloc[train_index], y.iloc[test_index]\n",
    "     sc = StandardScaler()\n",
    "     X_train = sc.fit_transform(X_train)\n",
    "     X_test = sc.transform(X_test)\n",
    "     cl = Perceptron(tol = 1e-3, random_state=0)\n",
    "     model = cl.fit(X_train, y_train)\n",
    "     prediction_test = model.predict(X_test)\n",
    "     acc_test = accuracy_score(y_test, prediction_test)\n",
    "     prediction_train = model.predict(X_train)\n",
    "     acc_train = accuracy_score(y_train,prediction_train)\n",
    "     testaccuracy_lp.append(acc_test)\n",
    "     trainaccuracy_lp.append(acc_train)\n",
    "\n",
    "print(\"Mean accuracy -lp for test set = \", np.mean(testaccuracy_lp))\n",
    "print(\"Mean accuracy -lp for train set = \", np.mean(trainaccuracy_lp))"
   ]
  },
  {
   "cell_type": "markdown",
   "id": "b95f9de4",
   "metadata": {},
   "source": []
  }
 ],
 "metadata": {
  "kernelspec": {
   "display_name": "Python 3",
   "language": "python",
   "name": "python3"
  },
  "language_info": {
   "codemirror_mode": {
    "name": "ipython",
    "version": 3
   },
   "file_extension": ".py",
   "mimetype": "text/x-python",
   "name": "python",
   "nbconvert_exporter": "python",
   "pygments_lexer": "ipython3",
   "version": "3.8.8"
  }
 },
 "nbformat": 4,
 "nbformat_minor": 5
}
